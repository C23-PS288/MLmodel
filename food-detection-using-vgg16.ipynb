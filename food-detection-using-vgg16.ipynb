{
 "cells": [
  {
   "cell_type": "code",
   "execution_count": 1,
   "id": "be4e7c80",
   "metadata": {
    "_cell_guid": "b1076dfc-b9ad-4769-8c92-a6c4dae69d19",
    "_uuid": "8f2839f25d086af736a60e9eeb907d3b93b6e0e5",
    "execution": {
     "iopub.execute_input": "2023-06-10T06:04:04.992918Z",
     "iopub.status.busy": "2023-06-10T06:04:04.992480Z",
     "iopub.status.idle": "2023-06-10T06:04:13.129632Z",
     "shell.execute_reply": "2023-06-10T06:04:13.128645Z"
    },
    "papermill": {
     "duration": 8.145747,
     "end_time": "2023-06-10T06:04:13.132382",
     "exception": false,
     "start_time": "2023-06-10T06:04:04.986635",
     "status": "completed"
    },
    "tags": []
   },
   "outputs": [
    {
     "name": "stderr",
     "output_type": "stream",
     "text": [
      "/opt/conda/lib/python3.10/site-packages/tensorflow_io/python/ops/__init__.py:98: UserWarning: unable to load libtensorflow_io_plugins.so: unable to open file: libtensorflow_io_plugins.so, from paths: ['/opt/conda/lib/python3.10/site-packages/tensorflow_io/python/ops/libtensorflow_io_plugins.so']\n",
      "caused by: ['/opt/conda/lib/python3.10/site-packages/tensorflow_io/python/ops/libtensorflow_io_plugins.so: undefined symbol: _ZN3tsl6StatusC1EN10tensorflow5error4CodeESt17basic_string_viewIcSt11char_traitsIcEENS_14SourceLocationE']\n",
      "  warnings.warn(f\"unable to load libtensorflow_io_plugins.so: {e}\")\n",
      "/opt/conda/lib/python3.10/site-packages/tensorflow_io/python/ops/__init__.py:104: UserWarning: file system plugins are not loaded: unable to open file: libtensorflow_io.so, from paths: ['/opt/conda/lib/python3.10/site-packages/tensorflow_io/python/ops/libtensorflow_io.so']\n",
      "caused by: ['/opt/conda/lib/python3.10/site-packages/tensorflow_io/python/ops/libtensorflow_io.so: undefined symbol: _ZTVN10tensorflow13GcsFileSystemE']\n",
      "  warnings.warn(f\"file system plugins are not loaded: {e}\")\n"
     ]
    }
   ],
   "source": [
    "import os\n",
    "import numpy as np\n",
    "import tensorflow as tf\n",
    "from tensorflow import keras as k\n",
    "from tensorflow.keras.preprocessing.image import ImageDataGenerator\n",
    "from tensorflow.keras.applications.vgg16 import VGG16\n",
    "from tensorflow.keras.layers import Dense, Dropout, Flatten\n",
    "from tensorflow.keras.models import Model, Sequential\n",
    "from tensorflow.keras.optimizers import Adam"
   ]
  },
  {
   "cell_type": "code",
   "execution_count": 2,
   "id": "a1b4a2a9",
   "metadata": {
    "execution": {
     "iopub.execute_input": "2023-06-10T06:04:13.141678Z",
     "iopub.status.busy": "2023-06-10T06:04:13.141067Z",
     "iopub.status.idle": "2023-06-10T06:04:13.147795Z",
     "shell.execute_reply": "2023-06-10T06:04:13.146919Z"
    },
    "papermill": {
     "duration": 0.013557,
     "end_time": "2023-06-10T06:04:13.150006",
     "exception": false,
     "start_time": "2023-06-10T06:04:13.136449",
     "status": "completed"
    },
    "tags": []
   },
   "outputs": [],
   "source": [
    "# Set the path to the Food-101 dataset\n",
    "rootfolder = '/kaggle/input/indonesian-foodv2/indonesian-food/'\n",
    "sampleimgpath = '/kaggle/input/indonesian-foodv2/indonesian_food/food/'\n",
    "sampleimages = ['ayam_bakar/ayam_bakar_(10).jpg', 'bakso/bakso-20004.jpg', 'gado_gado/gado gado-20001.jpg', 'rendang/Rendang-11.jpg', 'sate/sate-20003.jpg']\n",
    "\n",
    "# configurations\n",
    "epoch_count = 25\n",
    "img_size = (224,224)\n",
    "img_input_shape = (224,224, 3)  # can be tried with lower size to train model fast\n",
    "batch_size = 32\n",
    "\n",
    "# Set the paths for the data directory and the saved model\n",
    "data_dir = '/kaggle/input/indonesian-foodv2/indonesian_food/food/'\n",
    "saved_model_path = 'ModelML.h5'"
   ]
  },
  {
   "cell_type": "code",
   "execution_count": 3,
   "id": "ad17bcbf",
   "metadata": {
    "execution": {
     "iopub.execute_input": "2023-06-10T06:04:13.158841Z",
     "iopub.status.busy": "2023-06-10T06:04:13.158562Z",
     "iopub.status.idle": "2023-06-10T06:04:13.171303Z",
     "shell.execute_reply": "2023-06-10T06:04:13.170483Z"
    },
    "papermill": {
     "duration": 0.019388,
     "end_time": "2023-06-10T06:04:13.173162",
     "exception": false,
     "start_time": "2023-06-10T06:04:13.153774",
     "status": "completed"
    },
    "tags": []
   },
   "outputs": [],
   "source": [
    "# Limiting as of now for five kinds of foods\n",
    "# Get the list of folders to use\n",
    "use_folders = ['ayam_bakar', 'bakso', 'gado_gado', 'rendang', 'sate']\n",
    "\n",
    "# Get the list of subfolders in the dataset directory\n",
    "subfolders = os.listdir(data_dir)\n",
    "\n",
    "# Create a list of the subfolders to use\n",
    "subfolders_to_use = [subfolder for subfolder in subfolders if subfolder in use_folders]\n",
    "\n",
    "# Uncomment following line if want to train the model for all 101 foods\n",
    "# subfolders_to_use = subfolders\n",
    "\n",
    "# Define the number of classes\n",
    "num_classes = len(subfolders_to_use)\n",
    "\n",
    "# Get the list of class names\n",
    "class_names = sorted(subfolders_to_use)"
   ]
  },
  {
   "cell_type": "code",
   "execution_count": 4,
   "id": "26dd9899",
   "metadata": {
    "execution": {
     "iopub.execute_input": "2023-06-10T06:04:13.181621Z",
     "iopub.status.busy": "2023-06-10T06:04:13.181348Z",
     "iopub.status.idle": "2023-06-10T06:04:17.676187Z",
     "shell.execute_reply": "2023-06-10T06:04:17.675146Z"
    },
    "papermill": {
     "duration": 4.501592,
     "end_time": "2023-06-10T06:04:17.678492",
     "exception": false,
     "start_time": "2023-06-10T06:04:13.176900",
     "status": "completed"
    },
    "tags": []
   },
   "outputs": [
    {
     "name": "stdout",
     "output_type": "stream",
     "text": [
      "Found 7979 images belonging to 5 classes.\n",
      "Found 1992 images belonging to 5 classes.\n"
     ]
    }
   ],
   "source": [
    "# Define the image generator for training data and validation data (20%)\n",
    "# Also apply multiple augmentations\n",
    "train_datagen = ImageDataGenerator(\n",
    "    rescale=1. / 255,\n",
    "    rotation_range=20,\n",
    "    width_shift_range=0.2,\n",
    "    height_shift_range=0.2,\n",
    "    shear_range=0.2,\n",
    "    zoom_range=0.2,\n",
    "    horizontal_flip=True,\n",
    "    validation_split=0.2)\n",
    "\n",
    "\n",
    "# Define the training and validation generators\n",
    "train_generator = train_datagen.flow_from_directory(\n",
    "    data_dir,\n",
    "    target_size=img_size,\n",
    "    batch_size=batch_size,\n",
    "    classes=subfolders_to_use,\n",
    "    class_mode='categorical',\n",
    "    subset='training')\n",
    "\n",
    "val_generator = train_datagen.flow_from_directory(\n",
    "    data_dir,\n",
    "    target_size=img_size,\n",
    "    batch_size=batch_size,\n",
    "    classes=subfolders_to_use,\n",
    "    class_mode='categorical',\n",
    "    subset='validation')\n"
   ]
  },
  {
   "cell_type": "code",
   "execution_count": 5,
   "id": "0f75bb2d",
   "metadata": {
    "execution": {
     "iopub.execute_input": "2023-06-10T06:04:17.687553Z",
     "iopub.status.busy": "2023-06-10T06:04:17.687230Z",
     "iopub.status.idle": "2023-06-10T06:04:21.373911Z",
     "shell.execute_reply": "2023-06-10T06:04:21.372913Z"
    },
    "papermill": {
     "duration": 3.694152,
     "end_time": "2023-06-10T06:04:21.376633",
     "exception": false,
     "start_time": "2023-06-10T06:04:17.682481",
     "status": "completed"
    },
    "tags": []
   },
   "outputs": [
    {
     "name": "stdout",
     "output_type": "stream",
     "text": [
      "Downloading data from https://storage.googleapis.com/tensorflow/keras-applications/vgg16/vgg16_weights_tf_dim_ordering_tf_kernels_notop.h5\n",
      "58889256/58889256 [==============================] - 0s 0us/step\n"
     ]
    }
   ],
   "source": [
    "# Load pre-trained VGG16 model without top layers\n",
    "vgg16_model = VGG16(weights='imagenet', include_top=False, input_shape=img_input_shape)"
   ]
  },
  {
   "cell_type": "code",
   "execution_count": 6,
   "id": "e6eed2f5",
   "metadata": {
    "execution": {
     "iopub.execute_input": "2023-06-10T06:04:21.387481Z",
     "iopub.status.busy": "2023-06-10T06:04:21.387136Z",
     "iopub.status.idle": "2023-06-10T06:04:21.626498Z",
     "shell.execute_reply": "2023-06-10T06:04:21.625581Z"
    },
    "papermill": {
     "duration": 0.247449,
     "end_time": "2023-06-10T06:04:21.628957",
     "exception": false,
     "start_time": "2023-06-10T06:04:21.381508",
     "status": "completed"
    },
    "tags": []
   },
   "outputs": [],
   "source": [
    "# Freeze pre-trained layers\n",
    "for layer in vgg16_model.layers:\n",
    "    layer.trainable = False  \n",
    "\n",
    "# Add custom top layers\n",
    "x = vgg16_model.output\n",
    "x = Flatten()(x)\n",
    "x = Dense(128, activation='relu')(x)\n",
    "predictions = Dense(num_classes, activation='softmax')(x)\n",
    "\n",
    "# Combine pre-trained model with custom top layers\n",
    "model = Model(inputs=vgg16_model.input, outputs=predictions)"
   ]
  },
  {
   "cell_type": "code",
   "execution_count": 7,
   "id": "1e314542",
   "metadata": {
    "execution": {
     "iopub.execute_input": "2023-06-10T06:04:21.641071Z",
     "iopub.status.busy": "2023-06-10T06:04:21.639381Z",
     "iopub.status.idle": "2023-06-10T06:04:21.655872Z",
     "shell.execute_reply": "2023-06-10T06:04:21.655008Z"
    },
    "papermill": {
     "duration": 0.024211,
     "end_time": "2023-06-10T06:04:21.658068",
     "exception": false,
     "start_time": "2023-06-10T06:04:21.633857",
     "status": "completed"
    },
    "tags": []
   },
   "outputs": [],
   "source": [
    "# Compile the model with the Adam optimizer and categorical cross-entropy loss. can be tried with other optimizer\n",
    "model.compile(optimizer='adam', loss='categorical_crossentropy', metrics=['accuracy'])\n",
    "#model.compile(optimizer=Adam(lr=0.001), loss='categorical_crossentropy', metrics=['accuracy'])"
   ]
  },
  {
   "cell_type": "code",
   "execution_count": 8,
   "id": "dfb4c92e",
   "metadata": {
    "execution": {
     "iopub.execute_input": "2023-06-10T06:04:21.668393Z",
     "iopub.status.busy": "2023-06-10T06:04:21.668076Z",
     "iopub.status.idle": "2023-06-10T07:01:36.916177Z",
     "shell.execute_reply": "2023-06-10T07:01:36.915110Z"
    },
    "papermill": {
     "duration": 3435.804495,
     "end_time": "2023-06-10T07:01:37.467071",
     "exception": false,
     "start_time": "2023-06-10T06:04:21.662576",
     "status": "completed"
    },
    "tags": []
   },
   "outputs": [
    {
     "name": "stdout",
     "output_type": "stream",
     "text": [
      "Epoch 1/25\n",
      "250/250 [==============================] - 167s 630ms/step - loss: 0.9061 - accuracy: 0.7353 - val_loss: 0.6118 - val_accuracy: 0.7726\n",
      "Epoch 2/25\n",
      "250/250 [==============================] - 127s 509ms/step - loss: 0.4622 - accuracy: 0.8361 - val_loss: 0.5253 - val_accuracy: 0.8112\n",
      "Epoch 3/25\n",
      "250/250 [==============================] - 128s 513ms/step - loss: 0.4250 - accuracy: 0.8520 - val_loss: 0.3486 - val_accuracy: 0.8720\n",
      "Epoch 4/25\n",
      "250/250 [==============================] - 128s 511ms/step - loss: 0.4072 - accuracy: 0.8560 - val_loss: 0.3190 - val_accuracy: 0.8850\n",
      "Epoch 5/25\n",
      "250/250 [==============================] - 127s 509ms/step - loss: 0.3800 - accuracy: 0.8679 - val_loss: 0.3159 - val_accuracy: 0.8845\n",
      "Epoch 6/25\n",
      "250/250 [==============================] - 127s 507ms/step - loss: 0.3564 - accuracy: 0.8732 - val_loss: 0.2857 - val_accuracy: 0.8931\n",
      "Epoch 7/25\n",
      "250/250 [==============================] - 127s 506ms/step - loss: 0.3482 - accuracy: 0.8753 - val_loss: 0.3647 - val_accuracy: 0.8680\n",
      "Epoch 8/25\n",
      "250/250 [==============================] - 127s 510ms/step - loss: 0.3319 - accuracy: 0.8829 - val_loss: 0.3137 - val_accuracy: 0.8881\n",
      "Epoch 9/25\n",
      "250/250 [==============================] - 127s 509ms/step - loss: 0.3300 - accuracy: 0.8828 - val_loss: 0.3617 - val_accuracy: 0.8775\n",
      "Epoch 10/25\n",
      "250/250 [==============================] - 127s 509ms/step - loss: 0.2997 - accuracy: 0.8935 - val_loss: 0.3109 - val_accuracy: 0.8911\n",
      "Epoch 11/25\n",
      "250/250 [==============================] - 129s 516ms/step - loss: 0.2928 - accuracy: 0.8976 - val_loss: 0.3210 - val_accuracy: 0.8936\n",
      "Epoch 12/25\n",
      "250/250 [==============================] - 127s 509ms/step - loss: 0.3028 - accuracy: 0.8891 - val_loss: 0.2888 - val_accuracy: 0.9016\n",
      "Epoch 13/25\n",
      "250/250 [==============================] - 128s 510ms/step - loss: 0.3036 - accuracy: 0.8913 - val_loss: 0.2414 - val_accuracy: 0.9152\n",
      "Epoch 14/25\n",
      "250/250 [==============================] - 127s 506ms/step - loss: 0.2851 - accuracy: 0.9004 - val_loss: 0.2852 - val_accuracy: 0.9026\n",
      "Epoch 15/25\n",
      "250/250 [==============================] - 128s 512ms/step - loss: 0.2751 - accuracy: 0.9031 - val_loss: 0.3035 - val_accuracy: 0.8951\n",
      "Epoch 16/25\n",
      "250/250 [==============================] - 128s 510ms/step - loss: 0.2665 - accuracy: 0.9080 - val_loss: 0.3080 - val_accuracy: 0.8891\n",
      "Epoch 17/25\n",
      "250/250 [==============================] - 128s 511ms/step - loss: 0.2678 - accuracy: 0.9079 - val_loss: 0.2655 - val_accuracy: 0.9101\n",
      "Epoch 18/25\n",
      "250/250 [==============================] - 128s 511ms/step - loss: 0.2722 - accuracy: 0.9045 - val_loss: 0.2660 - val_accuracy: 0.9111\n",
      "Epoch 19/25\n",
      "250/250 [==============================] - 127s 510ms/step - loss: 0.2622 - accuracy: 0.9086 - val_loss: 0.2771 - val_accuracy: 0.9051\n",
      "Epoch 20/25\n",
      "250/250 [==============================] - 128s 510ms/step - loss: 0.2748 - accuracy: 0.9021 - val_loss: 0.2294 - val_accuracy: 0.9237\n",
      "Epoch 21/25\n",
      "250/250 [==============================] - 127s 508ms/step - loss: 0.2516 - accuracy: 0.9099 - val_loss: 0.2619 - val_accuracy: 0.9021\n",
      "Epoch 22/25\n",
      "250/250 [==============================] - 127s 509ms/step - loss: 0.2493 - accuracy: 0.9108 - val_loss: 0.2453 - val_accuracy: 0.9071\n",
      "Epoch 23/25\n",
      "250/250 [==============================] - 128s 512ms/step - loss: 0.2557 - accuracy: 0.9085 - val_loss: 0.2402 - val_accuracy: 0.9192\n",
      "Epoch 24/25\n",
      "250/250 [==============================] - 126s 503ms/step - loss: 0.2332 - accuracy: 0.9170 - val_loss: 0.2506 - val_accuracy: 0.9116\n",
      "Epoch 25/25\n",
      "250/250 [==============================] - 128s 512ms/step - loss: 0.2442 - accuracy: 0.9153 - val_loss: 0.3236 - val_accuracy: 0.8805\n"
     ]
    },
    {
     "data": {
      "text/plain": [
       "<keras.callbacks.History at 0x7b1bd8e6ea10>"
      ]
     },
     "execution_count": 8,
     "metadata": {},
     "output_type": "execute_result"
    }
   ],
   "source": [
    "# Train model\n",
    "model.fit(train_generator, epochs=epoch_count, validation_data=val_generator)"
   ]
  },
  {
   "cell_type": "code",
   "execution_count": 9,
   "id": "2fef492e",
   "metadata": {
    "execution": {
     "iopub.execute_input": "2023-06-10T07:01:38.469619Z",
     "iopub.status.busy": "2023-06-10T07:01:38.469213Z",
     "iopub.status.idle": "2023-06-10T07:02:04.349572Z",
     "shell.execute_reply": "2023-06-10T07:02:04.348518Z"
    },
    "papermill": {
     "duration": 26.356854,
     "end_time": "2023-06-10T07:02:04.351658",
     "exception": false,
     "start_time": "2023-06-10T07:01:37.994804",
     "status": "completed"
    },
    "tags": []
   },
   "outputs": [
    {
     "name": "stdout",
     "output_type": "stream",
     "text": [
      "Validation loss: 0.30171942710876465\n",
      "Validation accuracy: 0.8960843086242676\n",
      "-----------------------------------\n",
      "\n"
     ]
    }
   ],
   "source": [
    "# Evaluate the model on the validation set\n",
    "score = model.evaluate(val_generator, verbose=0)\n",
    "print('Validation loss:', score[0])\n",
    "print('Validation accuracy:', score[1])\n",
    "print('-----------------------------------\\n')\n",
    "\n",
    "# Save the trained model\n",
    "model.save(saved_model_path)"
   ]
  },
  {
   "cell_type": "code",
   "execution_count": 10,
   "id": "24225a0e",
   "metadata": {
    "execution": {
     "iopub.execute_input": "2023-06-10T07:02:05.284199Z",
     "iopub.status.busy": "2023-06-10T07:02:05.283836Z",
     "iopub.status.idle": "2023-06-10T07:02:05.290273Z",
     "shell.execute_reply": "2023-06-10T07:02:05.289377Z"
    },
    "papermill": {
     "duration": 0.475549,
     "end_time": "2023-06-10T07:02:05.292526",
     "exception": false,
     "start_time": "2023-06-10T07:02:04.816977",
     "status": "completed"
    },
    "tags": []
   },
   "outputs": [],
   "source": [
    "def GetFoodName(imgpath):\n",
    "    # Load the image\n",
    "    img = tf.keras.preprocessing.image.load_img(imgpath, target_size=img_size)\n",
    "\n",
    "    # Convert the image to an array\n",
    "    img_array = tf.keras.preprocessing.image.img_to_array(img)\n",
    "\n",
    "    # Reshape the array to match the input shape of the model\n",
    "    img_array = np.expand_dims(img_array, axis=0)\n",
    "\n",
    "    # Normalize the image data\n",
    "    img_array = img_array / 255.0\n",
    "\n",
    "    # Make a prediction using the trained model\n",
    "    prediction = model.predict(img_array)\n",
    "    print(prediction)\n",
    "\n",
    "    # Get the predicted class label\n",
    "    predicted_class_idx = np.argmax(prediction, axis=-1)[0]\n",
    "    predicted_class_label = class_names[predicted_class_idx]\n",
    "    return predicted_class_label"
   ]
  },
  {
   "cell_type": "code",
   "execution_count": 11,
   "id": "c27b3237",
   "metadata": {
    "execution": {
     "iopub.execute_input": "2023-06-10T07:02:06.332081Z",
     "iopub.status.busy": "2023-06-10T07:02:06.331733Z",
     "iopub.status.idle": "2023-06-10T07:02:07.368832Z",
     "shell.execute_reply": "2023-06-10T07:02:07.367887Z"
    },
    "papermill": {
     "duration": 1.608839,
     "end_time": "2023-06-10T07:02:07.370818",
     "exception": false,
     "start_time": "2023-06-10T07:02:05.761979",
     "status": "completed"
    },
    "tags": []
   },
   "outputs": [
    {
     "name": "stdout",
     "output_type": "stream",
     "text": [
      "1/1 [==============================] - 0s 414ms/step\n",
      "[[2.1012358e-03 3.9015056e-04 9.8933440e-01 7.3632095e-03 8.1090134e-04]]\n",
      "Predicted class label:  gado_gado\n",
      "1/1 [==============================] - 0s 21ms/step\n",
      "[[4.3359782e-09 9.9996614e-01 1.8078175e-10 2.6750843e-07 3.3575263e-05]]\n",
      "Predicted class label:  bakso\n",
      "1/1 [==============================] - 0s 17ms/step\n",
      "[[2.1057196e-05 2.5117600e-01 7.8178499e-07 4.2905463e-05 7.4875927e-01]]\n",
      "Predicted class label:  sate\n",
      "1/1 [==============================] - 0s 17ms/step\n",
      "[[1.4765030e-03 2.5891716e-06 1.2272199e-03 9.9721861e-01 7.5110860e-05]]\n",
      "Predicted class label:  rendang\n",
      "1/1 [==============================] - 0s 17ms/step\n",
      "[[9.9912089e-01 9.7985105e-07 2.0181101e-04 6.6332682e-04 1.3011687e-05]]\n",
      "Predicted class label:  ayam_bakar\n"
     ]
    }
   ],
   "source": [
    "# Reload the trained model\n",
    "model = k.models.load_model('/kaggle/working/' + saved_model_path)\n",
    "\n",
    "# Check of sample images and print the predicted class label\n",
    "for img in sampleimages:\n",
    "    sampleimage = sampleimgpath + img\n",
    "    predicted_class_label = GetFoodName(sampleimage)\n",
    "    print(\"Predicted class label: \", predicted_class_label)"
   ]
  }
 ],
 "metadata": {
  "kernelspec": {
   "display_name": "Python 3",
   "language": "python",
   "name": "python3"
  },
  "language_info": {
   "codemirror_mode": {
    "name": "ipython",
    "version": 3
   },
   "file_extension": ".py",
   "mimetype": "text/x-python",
   "name": "python",
   "nbconvert_exporter": "python",
   "pygments_lexer": "ipython3",
   "version": "3.10.10"
  },
  "papermill": {
   "default_parameters": {},
   "duration": 3496.41176,
   "end_time": "2023-06-10T07:02:10.721526",
   "environment_variables": {},
   "exception": null,
   "input_path": "__notebook__.ipynb",
   "output_path": "__notebook__.ipynb",
   "parameters": {},
   "start_time": "2023-06-10T06:03:54.309766",
   "version": "2.4.0"
  }
 },
 "nbformat": 4,
 "nbformat_minor": 5
}
